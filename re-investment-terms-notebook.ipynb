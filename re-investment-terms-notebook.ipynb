{
 "cells": [
  {
   "cell_type": "markdown",
   "metadata": {},
   "source": [
    "# RE Investment Terms - Intro \n",
    "\n",
    "In order to be able to propely asses RE investments, it's crucial to have a good understanding of some basic investment terms. \n",
    "\n",
    "For example, given the right conditions from a loaner, by calculating Cash-on-cash instead of Cap Rate, we can sometimes come to a conclusion that we can make a much better return on the investment if we make a smaller down payment by using leverage. \n",
    "\n",
    "In this notebook we'll survey the most common ones, from simple to more complex. \n",
    "- NOI (net operating income)\n",
    "- Cap Rate (capitalization rate)\n",
    "- Cash-on-cash \n",
    "- NPV (net present value)\n",
    "- IRR (internal rate of return)\n"
   ]
  },
  {
   "cell_type": "markdown",
   "metadata": {},
   "source": [
    "## NOI (net operating income)"
   ]
  },
  {
   "cell_type": "markdown",
   "metadata": {},
   "source": [
    "**Net Operation Income** (**NOI**) is a calculation used to analyze real estate investments that generate income. NOI equals all revenue from the property minus all reasonably necessary operating expenses. Aside from rent, a property might also generate revenue from parking and service fees, like vending and laundry machines. Operating Expenses are those required to run and maintain the building and its grounds, such as insurance property management fees, utilities, property taxes, repairs and janitorial fees. \n",
    "\n",
    "**NOI is a before-tax figure**; it also excludes principal and interest payments on loans, capital expenditures, depreciation and amortization\n",
    "\n",
    "### NOI = Income – expenses"
   ]
  },
  {
   "cell_type": "markdown",
   "metadata": {},
   "source": [
    "Let's have a look at a simple example. \n",
    "Consider a property that's listed for sale at $2,000,000.\n",
    "\n",
    "Say an office building. Let's assume that after all expenses (not including mortgage payments, if there are any), we get a net return of $150,000 a year from this property. This is the property's NOI. This is the amount we make after all expenses: insurance, vacancies (some of the office space may not be rented), repairs, utilieis, and othe misc cost. "
   ]
  },
  {
   "cell_type": "code",
   "execution_count": 76,
   "metadata": {},
   "outputs": [
    {
     "name": "stdout",
     "output_type": "stream",
     "text": [
      "noi is $150000\n"
     ]
    }
   ],
   "source": [
    "downPayment = 2000000 # sales price of the property\n",
    "\n",
    "monthlyRent     = 15000 # rent from all tenenants\n",
    "monthlyExpenses = 2500  # avg monthly cost of utilities, repairs, etc. \n",
    "\n",
    "annualRent = 12 * monthlyRent\n",
    "annualExpenses = 12 * monthlyExpenses\n",
    "\n",
    "realisticAnnualRent = 11 * monthlyRent # many investors would assume 1 month of vacancy \n",
    "\n",
    "noi = annualRent - annualExpenses\n",
    "print 'noi is $%s' % noi"
   ]
  },
  {
   "cell_type": "markdown",
   "metadata": {},
   "source": [
    "## Cap Rate"
   ]
  },
  {
   "cell_type": "markdown",
   "metadata": {},
   "source": [
    "The capitalization rate is the rate of return on a real estate investment property based on the income that the property is expected to generate. The capitalization rate is used to estimate the investor’s potential return on his or her investment. It's a quick and easy way to estimate the property's potential for one year, without any financing. "
   ]
  },
  {
   "cell_type": "markdown",
   "metadata": {},
   "source": [
    "### Cap Rate = NOI / Sales Price"
   ]
  },
  {
   "cell_type": "code",
   "execution_count": 69,
   "metadata": {},
   "outputs": [
    {
     "name": "stdout",
     "output_type": "stream",
     "text": [
      "capRate is 0.075\n",
      "or 7.5%\n"
     ]
    }
   ],
   "source": [
    "downPayment = 2000000.0 # using the example from earlier\n",
    "noi = 150000.0            # as shown before\n",
    "\n",
    "capRate = noi / downPayment\n",
    "print 'capRate is %s' % capRate\n",
    "capRate = 100 * capRate\n",
    "print 'or %s%%' % capRate"
   ]
  },
  {
   "cell_type": "markdown",
   "metadata": {},
   "source": [
    "Let's take a look at another example. We got a 7.5% cap rate over the above mentioned property. But what if we take a second look at the property and come to a conclusion that it actually can only make `$135,000` a year (and not `$150,000` as we initially thought)? If we want to keep the investment interesting, we should ask ourselves **how much will we have to pay for the same property if we still want to maintain a 7.5% cap rate?**\n",
    "\n",
    "Well, it's pretty simple as you can see. Let's update our NOI and Cap Rate on the formula and reach the new sales price we should be paying. "
   ]
  },
  {
   "cell_type": "code",
   "execution_count": 75,
   "metadata": {},
   "outputs": [
    {
     "name": "stdout",
     "output_type": "stream",
     "text": [
      "new propertyPrice should be $1800000\n"
     ]
    }
   ],
   "source": [
    "noi = 135000\n",
    "capRate = 0.075\n",
    "\n",
    "downPayment = noi / capRate\n",
    "print 'new downPayment should be $%d' % downPayment\n"
   ]
  },
  {
   "cell_type": "markdown",
   "metadata": {},
   "source": [
    "## Cash-on-cash"
   ]
  },
  {
   "cell_type": "markdown",
   "metadata": {},
   "source": [
    "As explained, the cap rate is nice as a quick snapshot to evaluate the property's potential. In the real world, in many cases we would be using leverage (a loan or a mortgage) in order to buy a property for investment. Therefore the cap rate formula does not always show the real return potential of a property, which can be higher or lower, depending on the conditions of the leverage. \n",
    "\n",
    "Let's look at the same property, which is for sale at `$2,000,000`, and we inticipate an NOI of `$150,000`. Let's presume we want to buy the property by putting down `35%` of the property's value and use a loan to pay for the rest. It is clear that the cap rate is no longer useful - we are not going to pay the full `$2,000,000`, but only `$700,000`, and we are obviously not going to get `$150,000` a year anymore because we have a loan to pay for. \n",
    "\n",
    "So with an LTV (Loan to Value) of `65%`, we are taking a mortgage of `$1,300,000` (65% of our property), ammortized for 30 years, with a fixed interest rate of `5.5%` (for simplicty). This gives us an \"Annual Debt Service\" (mortage, principal and interest) - of `$88,575` ([here's why](https://en.wikipedia.org/wiki/Mortgage_calculator)). \n",
    "\n",
    "How does our real return look like? Is it similar to the cap rate? Previously we had a cap rate of `7.5%`, based on a down payment of `$2,000,000` and an NOI of `$150,000` (150,000 / 2,000,000). But now we have a `$700,000` down payment (instead of the `$2,000,000`, the sales price from before), and our NOI is down to 61,425, because we have to pay `$88,575` out of the `$150,000` income for the loan. "
   ]
  },
  {
   "cell_type": "code",
   "execution_count": 131,
   "metadata": {},
   "outputs": [
    {
     "data": {
      "text/plain": [
       "0.08775"
      ]
     },
     "execution_count": 131,
     "metadata": {},
     "output_type": "execute_result"
    }
   ],
   "source": [
    "def cashOnCash(noi, annualDebtService, downPayment):\n",
    "    netIncome = noi - annualDebtService\n",
    "    return netIncome / downPayment\n",
    "\n",
    "noi = 150000\n",
    "annualDebtService = 88575.0\n",
    "downPayment = 700000\n",
    "\n",
    "cashOnCash(noi, annualDebtService, downPayment)"
   ]
  },
  {
   "cell_type": "markdown",
   "metadata": {},
   "source": [
    "As you can see, you actually make a better return in this case using leverage!"
   ]
  },
  {
   "cell_type": "markdown",
   "metadata": {},
   "source": [
    "## NPV (Net Present Value)"
   ]
  },
  {
   "cell_type": "markdown",
   "metadata": {},
   "source": [
    "Net present value (NPV) is a popular measure of profitability used in corporate budgeting to assess a given project's potential return on investment (ROI). The main idea is that a dollar earned today is more valuable than a dollar earned in a future time (because, for examlpe, if you had the money today, you could have invested it and capitalize), therefore, when considering future income, if we want to determine how much it's worth at present, we want to apply a certain discount to it to reflect this potential loss. \n",
    "\n",
    "The formula to determine NPV is given by:\n",
    "\n",
    "NPV= ∑ {Period Cash Flow / (1+R)^t} - Initial Investment\n",
    "\n",
    "Period cache flow: the income on a future period (for example, year 3 out of 5 years from a projects lifetime)\n",
    "R: the discount rate (applied to make that period's dollar equal to today's dollar)\n",
    "t: the period index (for example, 3, if it's year 3 in the project)\n",
    "\n",
    "Here's an example. Assume a company wants to analyze the predicted profitability of a project that requires an initial outlay of `$10,000`. Over the course of three years, the project is expected to generate revenues of `$2,000`, `$7,000` and `$11,000`, respectively. The anticipated discount rate is `4.5%`. At first glance, it seems the returns are nearly double the investment. However, a dollar earned in three years is not as valuable as a dollar earned today, so the company's accountant calculates the NPV as follows to determine profitability while accounting for the discounted time value of the projected revenues."
   ]
  },
  {
   "cell_type": "code",
   "execution_count": 206,
   "metadata": {},
   "outputs": [
    {
     "name": "stdout",
     "output_type": "stream",
     "text": [
      "7963.2479\n",
      "7963.2479\n"
     ]
    }
   ],
   "source": [
    "import math\n",
    "\n",
    "def npv(initalInvestment, discountRate, periodCacheFlows):\n",
    "    npv = -initalInvestment\n",
    "    for i, cf in enumerate(periodCacheFlows):\n",
    "        npv += cf / math.pow(1 + discountRate, i+1)\n",
    "    return npv\n",
    "\n",
    "initalInvestment = 10000 # $10,000 initial investment\n",
    "discountRate = 0.045     # 4.5%\n",
    "periodCacheFlows = [2000, 7000, 11000] # Over the course of three years, the project is expected to generate revenues of $2,000, $7,000 and $11,000, respectively.\n",
    "\n",
    "print round(npv(initalInvestment, discountRate, periodCacheFlows), 5)\n",
    "print round(np.npv(discountRate,[-initalInvestment, periodCacheFlows[0], periodCacheFlows[1], periodCacheFlows[2]]), 5)"
   ]
  },
  {
   "cell_type": "markdown",
   "metadata": {},
   "source": [
    "So we see that the returns are actually not double the investment as it may appear in first glance. Is the deal still worthy? Well, it depends on your alternatives. "
   ]
  },
  {
   "cell_type": "markdown",
   "metadata": {},
   "source": [
    "## Internal rate of return (IRR) "
   ]
  },
  {
   "cell_type": "markdown",
   "metadata": {},
   "source": [
    "IRR is a discount rate that makes the net present value (NPV) of all cash flows from a particular project equal to zero. In other words, if we ask ourselves: \"what is the discount rate that if used, the project would break even with the same cash inflows?\". The higher the IRR, the more profitable is the project overall. The IRR is the average yield we make per year if we treat future dollars as today's dollars.  \n",
    "\n",
    "In a real estate investment, there would usually be an exit strategy: the last cash inflow would be substantially higher than the former ones, because we are going to sell the property for a lot more than we paid for it. Since the IRR formula is computed over the entire project's life time and provides a yearly average, it's a good measure for the project's overall profitablity. "
   ]
  },
  {
   "cell_type": "code",
   "execution_count": 205,
   "metadata": {},
   "outputs": [
    {
     "data": {
      "text/plain": [
       "0.33783"
      ]
     },
     "execution_count": 205,
     "metadata": {},
     "output_type": "execute_result"
    }
   ],
   "source": [
    "round(np.irr([-10000, periodCacheFlows[0], periodCacheFlows[1], periodCacheFlows[2]]), 5)"
   ]
  },
  {
   "cell_type": "code",
   "execution_count": null,
   "metadata": {
    "collapsed": true
   },
   "outputs": [],
   "source": []
  }
 ],
 "metadata": {
  "kernelspec": {
   "display_name": "Python 2",
   "language": "python",
   "name": "python2"
  },
  "language_info": {
   "codemirror_mode": {
    "name": "ipython",
    "version": 2
   },
   "file_extension": ".py",
   "mimetype": "text/x-python",
   "name": "python",
   "nbconvert_exporter": "python",
   "pygments_lexer": "ipython2",
   "version": "2.7.11"
  }
 },
 "nbformat": 4,
 "nbformat_minor": 2
}
